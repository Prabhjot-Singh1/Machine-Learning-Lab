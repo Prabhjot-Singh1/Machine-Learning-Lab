{
 "cells": [
  {
   "cell_type": "code",
   "execution_count": 2,
   "metadata": {},
   "outputs": [
    {
     "name": "stdout",
     "output_type": "stream",
     "text": [
      "Slope (m): -4.067415730337078\n",
      "Intercept (c): 93.97003745318352\n",
      "Enter a value of x: 9\n",
      "Predicted y for x = 9.0 is 57.36329588014982\n"
     ]
    }
   ],
   "source": [
    "import numpy as np\n",
    "\n",
    "x = np.array([0, 1, 2, 3, 3, 5, 5, 5, 6, 7, 7, 10], dtype=float)\n",
    "y = np.array([96, 85, 82, 74, 95, 68, 76, 84, 58, 65, 75, 50], dtype=float)\n",
    "\n",
    "\n",
    "x_mean = np.mean(x)\n",
    "y_mean = np.mean(y)\n",
    "\n",
    "\n",
    "\n",
    "\n",
    "\n",
    "numerator=12*(np.sum(x*y))-np.sum(x)*np.sum(y)\n",
    "denominator=12*(np.sum(x*x))-np.sum(x)*np.sum(x)\n",
    "m = numerator / denominator\n",
    "\n",
    "\n",
    "c = y_mean - m * x_mean\n",
    "\n",
    "print(f\"Slope (m): {m}\")\n",
    "print(f\"Intercept (c): {c}\")\n",
    "\n",
    "x_input = float(input(\"Enter a value of x: \"))\n",
    "y_pred = m * x_input + c\n",
    "print(f\"Predicted y for x = {x_input} is {y_pred}\")\n"
   ]
  }
 ],
 "metadata": {
  "kernelspec": {
   "display_name": "Python 3",
   "language": "python",
   "name": "python3"
  },
  "language_info": {
   "codemirror_mode": {
    "name": "ipython",
    "version": 3
   },
   "file_extension": ".py",
   "mimetype": "text/x-python",
   "name": "python",
   "nbconvert_exporter": "python",
   "pygments_lexer": "ipython3",
   "version": "3.8.3"
  }
 },
 "nbformat": 4,
 "nbformat_minor": 4
}
